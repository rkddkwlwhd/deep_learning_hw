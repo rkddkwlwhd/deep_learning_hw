{
 "cells": [
  {
   "cell_type": "markdown",
   "id": "aa03f456",
   "metadata": {},
   "source": [
    "## [문제1] Fashion MNIST 데이터 정규화를 위한 Mean과 Std. 값 찾기"
   ]
  },
  {
   "cell_type": "code",
   "execution_count": 1,
   "id": "e933f4e3",
   "metadata": {},
   "outputs": [],
   "source": [
    "import torch\n",
    "from torchvision import datasets, transforms\n",
    "from torch.utils.data import DataLoader"
   ]
  },
  {
   "cell_type": "code",
   "execution_count": 2,
   "id": "7bafdb9e",
   "metadata": {},
   "outputs": [],
   "source": [
    "# 이미지를 텐서로 변환하는 변환 정의\n",
    "transform = transforms.ToTensor()\n",
    "\n",
    "# Fashion MNIST 훈련용 데이터셋 로드 (정규화 없음)\n",
    "train_dataset = datasets.FashionMNIST(root='data', train=True, download=True, transform=transform)"
   ]
  },
  {
   "cell_type": "code",
   "execution_count": 3,
   "id": "63e494d5",
   "metadata": {},
   "outputs": [],
   "source": [
    "# 데이터셋을 배치 단위로 로드하기 위한 DataLoader 생성\n",
    "train_loader = DataLoader(train_dataset, batch_size=1000, shuffle=False)"
   ]
  },
  {
   "cell_type": "code",
   "execution_count": 4,
   "id": "572ff83b",
   "metadata": {},
   "outputs": [
    {
     "name": "stdout",
     "output_type": "stream",
     "text": [
      "평균: 0.28604066371917725\n",
      "표준편차: 0.3530242145061493\n"
     ]
    }
   ],
   "source": [
    "# 채널별 합계와 제곱 합계를 저장할 변수 초기화\n",
    "sum_ = torch.zeros(1)\n",
    "sum_squared = torch.zeros(1)\n",
    "total_samples = 0\n",
    "\n",
    "for data, _ in train_loader:\n",
    "    # data.shape: [배치 크기, 채널 수, 높이, 너비]\n",
    "    \n",
    "    # 배치 내 이미지 수\n",
    "    batch_samples = data.size(0)\n",
    "    \n",
    "    # 데이터의 모든 픽셀 값의 합계를 계산하여 누적\n",
    "    sum_ += data.sum([0, 2, 3])\n",
    "    \n",
    "    # 데이터의 모든 픽셀 값의 제곱 합계를 계산하여 누적\n",
    "    sum_squared += (data ** 2).sum([0, 2, 3])\n",
    "    \n",
    "    # 총 샘플 수 증가\n",
    "    total_samples += batch_samples * data.size(2) * data.size(3)  # 배치 크기 * 높이 * 너비\n",
    "\n",
    "# 평균 계산: 전체 합계를 전체 샘플 수로 나눔\n",
    "mean = sum_ / total_samples\n",
    "\n",
    "# 분산 계산: E[X^2] - (E[X])^2\n",
    "variance = (sum_squared / total_samples) - (mean ** 2)\n",
    "\n",
    "# 표준편차 계산: 분산의 제곱근\n",
    "std = torch.sqrt(variance)\n",
    "\n",
    "print('평균:', mean.item())\n",
    "print('표준편차:', std.item())"
   ]
  },
  {
   "cell_type": "code",
   "execution_count": 5,
   "id": "24b39bf0",
   "metadata": {},
   "outputs": [],
   "source": [
    "# 계산된 평균과 표준편차를 사용하여 정규화를 위한 변환 정의\n",
    "transform = transforms.Compose([\n",
    "    transforms.ToTensor(),\n",
    "    transforms.Normalize(mean=[mean.item()], std=[std.item()])\n",
    "])\n",
    "\n",
    "# 정규화된 데이터셋 로드\n",
    "train_dataset = datasets.FashionMNIST(root='data', train=True, download=True, transform=transform)"
   ]
  },
  {
   "cell_type": "code",
   "execution_count": 7,
   "id": "f50d993b",
   "metadata": {},
   "outputs": [
    {
     "name": "stdout",
     "output_type": "stream",
     "text": [
      "Defaulting to user installation because normal site-packages is not writeable\n",
      "Looking in indexes: https://pypi.org/simple, https://pypi.ngc.nvidia.com\n",
      "Requirement already satisfied: pip in /usr/local/lib/python3.10/dist-packages (24.0)\n",
      "Collecting pip\n",
      "  Downloading pip-24.3.1-py3-none-any.whl.metadata (3.7 kB)\n",
      "Downloading pip-24.3.1-py3-none-any.whl (1.8 MB)\n",
      "\u001b[2K   \u001b[90m━━━━━━━━━━━━━━━━━━━━━━━━━━━━━━━━━━━━━━━━\u001b[0m \u001b[32m1.8/1.8 MB\u001b[0m \u001b[31m13.2 MB/s\u001b[0m eta \u001b[36m0:00:00\u001b[0ma \u001b[36m0:00:01\u001b[0m\n",
      "\u001b[?25h\u001b[33mDEPRECATION: devscripts 2.22.1ubuntu1 has a non-standard version number. pip 24.1 will enforce this behaviour change. A possible replacement is to upgrade to a newer version of devscripts or contact the author to suggest that they release a version with a conforming version number. Discussion can be found at https://github.com/pypa/pip/issues/12063\u001b[0m\u001b[33m\n",
      "\u001b[0mInstalling collected packages: pip\n",
      "Successfully installed pip-24.3.1\n",
      "\n",
      "\u001b[1m[\u001b[0m\u001b[34;49mnotice\u001b[0m\u001b[1;39;49m]\u001b[0m\u001b[39;49m A new release of pip is available: \u001b[0m\u001b[31;49m24.0\u001b[0m\u001b[39;49m -> \u001b[0m\u001b[32;49m24.3.1\u001b[0m\n",
      "\u001b[1m[\u001b[0m\u001b[34;49mnotice\u001b[0m\u001b[1;39;49m]\u001b[0m\u001b[39;49m To update, run: \u001b[0m\u001b[32;49mpython -m pip install --upgrade pip\u001b[0m\n"
     ]
    }
   ],
   "source": [
    "!pip install --upgrade pip"
   ]
  },
  {
   "cell_type": "code",
   "execution_count": 8,
   "id": "bfa7548c",
   "metadata": {},
   "outputs": [
    {
     "name": "stdout",
     "output_type": "stream",
     "text": [
      "Defaulting to user installation because normal site-packages is not writeable\n",
      "Looking in indexes: https://pypi.org/simple, https://pypi.ngc.nvidia.com\n",
      "Collecting wandb\n",
      "  Downloading wandb-0.18.7-py3-none-manylinux_2_17_x86_64.manylinux2014_x86_64.whl.metadata (9.7 kB)\n",
      "Requirement already satisfied: click!=8.0.0,>=7.1 in /usr/local/lib/python3.10/dist-packages (from wandb) (8.1.7)\n",
      "Collecting docker-pycreds>=0.4.0 (from wandb)\n",
      "  Downloading docker_pycreds-0.4.0-py2.py3-none-any.whl.metadata (1.8 kB)\n",
      "Requirement already satisfied: gitpython!=3.1.29,>=1.0.0 in /usr/local/lib/python3.10/dist-packages (from wandb) (3.1.26)\n",
      "Requirement already satisfied: platformdirs in /usr/local/lib/python3.10/dist-packages (from wandb) (4.2.0)\n",
      "Requirement already satisfied: protobuf!=4.21.0,!=5.28.0,<6,>=3.19.0 in /usr/local/lib/python3.10/dist-packages (from wandb) (3.20.3)\n",
      "Requirement already satisfied: psutil>=5.0.0 in /usr/local/lib/python3.10/dist-packages (from wandb) (5.9.4)\n",
      "Requirement already satisfied: pyyaml in /usr/local/lib/python3.10/dist-packages (from wandb) (6.0.1)\n",
      "Requirement already satisfied: requests<3,>=2.0.0 in /usr/local/lib/python3.10/dist-packages (from wandb) (2.31.0)\n",
      "Collecting sentry-sdk>=2.0.0 (from wandb)\n",
      "  Downloading sentry_sdk-2.19.0-py2.py3-none-any.whl.metadata (9.9 kB)\n",
      "Collecting setproctitle (from wandb)\n",
      "  Downloading setproctitle-1.3.4-cp310-cp310-manylinux_2_5_x86_64.manylinux1_x86_64.manylinux_2_17_x86_64.manylinux2014_x86_64.whl.metadata (10 kB)\n",
      "Requirement already satisfied: setuptools in /usr/local/lib/python3.10/dist-packages (from wandb) (68.2.2)\n",
      "Requirement already satisfied: typing-extensions<5,>=4.4 in /usr/local/lib/python3.10/dist-packages (from wandb) (4.10.0)\n",
      "Requirement already satisfied: six>=1.4.0 in /usr/local/lib/python3.10/dist-packages (from docker-pycreds>=0.4.0->wandb) (1.16.0)\n",
      "Requirement already satisfied: gitdb<5,>=4.0.1 in /usr/local/lib/python3.10/dist-packages (from gitpython!=3.1.29,>=1.0.0->wandb) (4.0.5)\n",
      "Requirement already satisfied: charset-normalizer<4,>=2 in /usr/local/lib/python3.10/dist-packages (from requests<3,>=2.0.0->wandb) (3.3.2)\n",
      "Requirement already satisfied: idna<4,>=2.5 in /usr/local/lib/python3.10/dist-packages (from requests<3,>=2.0.0->wandb) (3.6)\n",
      "Requirement already satisfied: urllib3<3,>=1.21.1 in /usr/local/lib/python3.10/dist-packages (from requests<3,>=2.0.0->wandb) (1.26.18)\n",
      "Requirement already satisfied: certifi>=2017.4.17 in /usr/local/lib/python3.10/dist-packages (from requests<3,>=2.0.0->wandb) (2024.2.2)\n",
      "Requirement already satisfied: smmap<4,>=3.0.1 in /usr/local/lib/python3.10/dist-packages (from gitdb<5,>=4.0.1->gitpython!=3.1.29,>=1.0.0->wandb) (3.0.5)\n",
      "Downloading wandb-0.18.7-py3-none-manylinux_2_17_x86_64.manylinux2014_x86_64.whl (16.1 MB)\n",
      "\u001b[2K   \u001b[90m━━━━━━━━━━━━━━━━━━━━━━━━━━━━━━━━━━━━━━━━\u001b[0m \u001b[32m16.1/16.1 MB\u001b[0m \u001b[31m96.5 MB/s\u001b[0m eta \u001b[36m0:00:00\u001b[0m\n",
      "\u001b[?25hDownloading docker_pycreds-0.4.0-py2.py3-none-any.whl (9.0 kB)\n",
      "Downloading sentry_sdk-2.19.0-py2.py3-none-any.whl (322 kB)\n",
      "Downloading setproctitle-1.3.4-cp310-cp310-manylinux_2_5_x86_64.manylinux1_x86_64.manylinux_2_17_x86_64.manylinux2014_x86_64.whl (30 kB)\n",
      "\u001b[33mWARNING: Error parsing dependencies of devscripts: Invalid version: '2.22.1ubuntu1'\u001b[0m\u001b[33m\n",
      "\u001b[0mInstalling collected packages: setproctitle, sentry-sdk, docker-pycreds, wandb\n",
      "Successfully installed docker-pycreds-0.4.0 sentry-sdk-2.19.0 setproctitle-1.3.4 wandb-0.18.7\n"
     ]
    }
   ],
   "source": [
    "!pip install wandb"
   ]
  },
  {
   "cell_type": "markdown",
   "id": "b4c1d035",
   "metadata": {},
   "source": [
    "## [문제 2]Fashion MNIST 데이터에 대하여 CNN 학습시키기"
   ]
  },
  {
   "cell_type": "code",
   "execution_count": 9,
   "id": "74bcb458",
   "metadata": {},
   "outputs": [
    {
     "name": "stderr",
     "output_type": "stream",
     "text": [
      "\u001b[34m\u001b[1mwandb\u001b[0m: Using wandb-core as the SDK backend.  Please refer to https://wandb.me/wandb-core for more information.\n",
      "\u001b[34m\u001b[1mwandb\u001b[0m: Logging into wandb.ai. (Learn how to deploy a W&B server locally: https://wandb.me/wandb-server)\n",
      "\u001b[34m\u001b[1mwandb\u001b[0m: You can find your API key in your browser here: https://wandb.ai/authorize\n",
      "\u001b[34m\u001b[1mwandb\u001b[0m: Paste an API key from your profile and hit enter, or press ctrl+c to quit:"
     ]
    },
    {
     "name": "stdout",
     "output_type": "stream",
     "text": [
      " ········\n"
     ]
    },
    {
     "name": "stderr",
     "output_type": "stream",
     "text": [
      "\u001b[34m\u001b[1mwandb\u001b[0m: Appending key for api.wandb.ai to your netrc file: /home/work/.netrc\n"
     ]
    },
    {
     "data": {
      "text/plain": [
       "True"
      ]
     },
     "execution_count": 9,
     "metadata": {},
     "output_type": "execute_result"
    }
   ],
   "source": [
    "import wandb\n",
    "wandb.login()"
   ]
  },
  {
   "cell_type": "code",
   "execution_count": 11,
   "id": "b1a60c0c",
   "metadata": {},
   "outputs": [
    {
     "name": "stdout",
     "output_type": "stream",
     "text": [
      "Defaulting to user installation because normal site-packages is not writeable\n",
      "Looking in indexes: https://pypi.org/simple, https://pypi.ngc.nvidia.com\n",
      "Collecting torchinfo\n",
      "  Downloading torchinfo-1.8.0-py3-none-any.whl.metadata (21 kB)\n",
      "Downloading torchinfo-1.8.0-py3-none-any.whl (23 kB)\n",
      "\u001b[33mWARNING: Error parsing dependencies of devscripts: Invalid version: '2.22.1ubuntu1'\u001b[0m\u001b[33m\n",
      "\u001b[0mInstalling collected packages: torchinfo\n",
      "Successfully installed torchinfo-1.8.0\n"
     ]
    }
   ],
   "source": [
    "!pip install torchinfo"
   ]
  },
  {
   "cell_type": "code",
   "execution_count": 20,
   "id": "9c0ade78",
   "metadata": {},
   "outputs": [
    {
     "data": {
      "text/html": [
       "Tracking run with wandb version 0.18.7"
      ],
      "text/plain": [
       "<IPython.core.display.HTML object>"
      ]
     },
     "metadata": {},
     "output_type": "display_data"
    },
    {
     "data": {
      "text/html": [
       "Run data is saved locally in <code>/home/work/DL/wandb/run-20241123_003219-byz4cnqc</code>"
      ],
      "text/plain": [
       "<IPython.core.display.HTML object>"
      ]
     },
     "metadata": {},
     "output_type": "display_data"
    },
    {
     "data": {
      "text/html": [
       "Syncing run <strong><a href='https://wandb.ai/rkddkwlwhd-korea-university-of-technology-and-education/FashionMNIST_CNN/runs/byz4cnqc' target=\"_blank\">usual-aardvark-6</a></strong> to <a href='https://wandb.ai/rkddkwlwhd-korea-university-of-technology-and-education/FashionMNIST_CNN' target=\"_blank\">Weights & Biases</a> (<a href='https://wandb.me/developer-guide' target=\"_blank\">docs</a>)<br/>"
      ],
      "text/plain": [
       "<IPython.core.display.HTML object>"
      ]
     },
     "metadata": {},
     "output_type": "display_data"
    },
    {
     "data": {
      "text/html": [
       " View project at <a href='https://wandb.ai/rkddkwlwhd-korea-university-of-technology-and-education/FashionMNIST_CNN' target=\"_blank\">https://wandb.ai/rkddkwlwhd-korea-university-of-technology-and-education/FashionMNIST_CNN</a>"
      ],
      "text/plain": [
       "<IPython.core.display.HTML object>"
      ]
     },
     "metadata": {},
     "output_type": "display_data"
    },
    {
     "data": {
      "text/html": [
       " View run at <a href='https://wandb.ai/rkddkwlwhd-korea-university-of-technology-and-education/FashionMNIST_CNN/runs/byz4cnqc' target=\"_blank\">https://wandb.ai/rkddkwlwhd-korea-university-of-technology-and-education/FashionMNIST_CNN/runs/byz4cnqc</a>"
      ],
      "text/plain": [
       "<IPython.core.display.HTML object>"
      ]
     },
     "metadata": {},
     "output_type": "display_data"
    },
    {
     "name": "stdout",
     "output_type": "stream",
     "text": [
      "Using device: cuda\n",
      "Epoch [1/100], Train Loss: 0.6710, Train Acc: 74.72%, Val Loss: 0.5642, Val Acc: 78.38%\n",
      "Epoch [2/100], Train Loss: 0.4479, Train Acc: 83.35%, Val Loss: 0.3687, Val Acc: 86.52%\n",
      "Epoch [3/100], Train Loss: 0.3924, Train Acc: 85.43%, Val Loss: 0.3504, Val Acc: 86.90%\n",
      "Epoch [4/100], Train Loss: 0.3572, Train Acc: 86.94%, Val Loss: 0.3557, Val Acc: 86.96%\n",
      "Epoch [5/100], Train Loss: 0.3394, Train Acc: 87.61%, Val Loss: 0.3053, Val Acc: 88.72%\n",
      "Epoch [6/100], Train Loss: 0.3212, Train Acc: 88.45%, Val Loss: 0.3082, Val Acc: 88.56%\n",
      "Epoch [7/100], Train Loss: 0.3085, Train Acc: 88.82%, Val Loss: 0.2916, Val Acc: 89.00%\n",
      "Epoch [8/100], Train Loss: 0.2973, Train Acc: 89.19%, Val Loss: 0.2718, Val Acc: 90.24%\n",
      "Epoch [9/100], Train Loss: 0.2861, Train Acc: 89.70%, Val Loss: 0.2878, Val Acc: 89.58%\n",
      "Epoch [10/100], Train Loss: 0.2780, Train Acc: 89.93%, Val Loss: 0.2622, Val Acc: 90.32%\n",
      "Epoch [11/100], Train Loss: 0.2739, Train Acc: 90.10%, Val Loss: 0.2696, Val Acc: 89.80%\n",
      "Epoch [12/100], Train Loss: 0.2694, Train Acc: 90.22%, Val Loss: 0.2609, Val Acc: 89.94%\n",
      "Epoch [13/100], Train Loss: 0.2639, Train Acc: 90.54%, Val Loss: 0.2404, Val Acc: 90.96%\n",
      "Epoch [14/100], Train Loss: 0.2574, Train Acc: 90.82%, Val Loss: 0.2619, Val Acc: 90.32%\n",
      "Epoch [15/100], Train Loss: 0.2538, Train Acc: 90.69%, Val Loss: 0.2517, Val Acc: 90.62%\n",
      "Epoch [16/100], Train Loss: 0.2484, Train Acc: 91.03%, Val Loss: 0.2319, Val Acc: 91.70%\n",
      "Epoch [17/100], Train Loss: 0.2443, Train Acc: 91.20%, Val Loss: 0.2512, Val Acc: 90.92%\n",
      "Epoch [18/100], Train Loss: 0.2417, Train Acc: 91.38%, Val Loss: 0.2423, Val Acc: 90.84%\n",
      "Epoch [19/100], Train Loss: 0.2377, Train Acc: 91.37%, Val Loss: 0.2432, Val Acc: 91.00%\n",
      "Epoch [20/100], Train Loss: 0.2338, Train Acc: 91.67%, Val Loss: 0.2240, Val Acc: 91.52%\n",
      "Epoch [21/100], Train Loss: 0.2351, Train Acc: 91.58%, Val Loss: 0.2235, Val Acc: 91.84%\n",
      "Epoch [22/100], Train Loss: 0.2303, Train Acc: 91.73%, Val Loss: 0.2217, Val Acc: 91.50%\n",
      "Epoch [23/100], Train Loss: 0.2282, Train Acc: 91.81%, Val Loss: 0.2237, Val Acc: 91.90%\n",
      "Epoch [24/100], Train Loss: 0.2257, Train Acc: 91.79%, Val Loss: 0.2095, Val Acc: 92.80%\n",
      "Epoch [25/100], Train Loss: 0.2242, Train Acc: 92.10%, Val Loss: 0.2327, Val Acc: 91.82%\n",
      "Epoch [26/100], Train Loss: 0.2218, Train Acc: 92.11%, Val Loss: 0.2190, Val Acc: 91.94%\n",
      "Epoch [27/100], Train Loss: 0.2204, Train Acc: 92.03%, Val Loss: 0.2213, Val Acc: 91.54%\n",
      "Epoch [28/100], Train Loss: 0.2204, Train Acc: 92.11%, Val Loss: 0.2154, Val Acc: 92.08%\n",
      "Epoch [29/100], Train Loss: 0.1883, Train Acc: 93.22%, Val Loss: 0.1908, Val Acc: 93.20%\n",
      "Epoch [30/100], Train Loss: 0.1786, Train Acc: 93.49%, Val Loss: 0.1894, Val Acc: 93.06%\n",
      "Epoch [31/100], Train Loss: 0.1738, Train Acc: 93.74%, Val Loss: 0.1892, Val Acc: 93.02%\n",
      "Epoch [32/100], Train Loss: 0.1701, Train Acc: 93.85%, Val Loss: 0.1839, Val Acc: 93.02%\n",
      "Epoch [33/100], Train Loss: 0.1666, Train Acc: 94.06%, Val Loss: 0.1868, Val Acc: 93.32%\n",
      "Epoch [34/100], Train Loss: 0.1642, Train Acc: 94.04%, Val Loss: 0.1802, Val Acc: 93.54%\n",
      "Epoch [35/100], Train Loss: 0.1626, Train Acc: 94.15%, Val Loss: 0.1771, Val Acc: 93.50%\n",
      "Epoch [36/100], Train Loss: 0.1602, Train Acc: 94.20%, Val Loss: 0.1796, Val Acc: 93.14%\n",
      "Epoch [37/100], Train Loss: 0.1581, Train Acc: 94.35%, Val Loss: 0.1780, Val Acc: 93.68%\n",
      "Epoch [38/100], Train Loss: 0.1595, Train Acc: 94.13%, Val Loss: 0.1737, Val Acc: 93.54%\n",
      "Epoch [39/100], Train Loss: 0.1555, Train Acc: 94.37%, Val Loss: 0.1760, Val Acc: 93.84%\n",
      "Epoch [40/100], Train Loss: 0.1529, Train Acc: 94.49%, Val Loss: 0.1800, Val Acc: 93.36%\n",
      "Epoch [41/100], Train Loss: 0.1534, Train Acc: 94.47%, Val Loss: 0.1753, Val Acc: 93.96%\n",
      "Epoch [42/100], Train Loss: 0.1518, Train Acc: 94.57%, Val Loss: 0.1735, Val Acc: 93.66%\n",
      "Epoch [43/100], Train Loss: 0.1486, Train Acc: 94.59%, Val Loss: 0.1700, Val Acc: 93.72%\n",
      "Epoch [44/100], Train Loss: 0.1501, Train Acc: 94.57%, Val Loss: 0.1768, Val Acc: 93.46%\n",
      "Epoch [45/100], Train Loss: 0.1478, Train Acc: 94.63%, Val Loss: 0.1677, Val Acc: 94.06%\n",
      "Epoch [46/100], Train Loss: 0.1490, Train Acc: 94.73%, Val Loss: 0.1704, Val Acc: 93.72%\n",
      "Epoch [47/100], Train Loss: 0.1440, Train Acc: 94.84%, Val Loss: 0.1700, Val Acc: 93.72%\n",
      "Epoch [48/100], Train Loss: 0.1464, Train Acc: 94.74%, Val Loss: 0.1757, Val Acc: 93.50%\n",
      "Epoch [49/100], Train Loss: 0.1445, Train Acc: 94.69%, Val Loss: 0.1697, Val Acc: 93.84%\n",
      "Epoch [50/100], Train Loss: 0.1397, Train Acc: 94.99%, Val Loss: 0.1701, Val Acc: 93.66%\n",
      "Epoch [51/100], Train Loss: 0.1389, Train Acc: 94.91%, Val Loss: 0.1689, Val Acc: 93.98%\n",
      "Epoch [52/100], Train Loss: 0.1403, Train Acc: 94.88%, Val Loss: 0.1678, Val Acc: 94.00%\n",
      "Early stopping!\n",
      "Test Loss: 0.1817, Test Acc: 93.71%\n"
     ]
    },
    {
     "data": {
      "text/html": [
       "\n",
       "    <style>\n",
       "        .wandb-row {\n",
       "            display: flex;\n",
       "            flex-direction: row;\n",
       "            flex-wrap: wrap;\n",
       "            justify-content: flex-start;\n",
       "            width: 100%;\n",
       "        }\n",
       "        .wandb-col {\n",
       "            display: flex;\n",
       "            flex-direction: column;\n",
       "            flex-basis: 100%;\n",
       "            flex: 1;\n",
       "            padding: 10px;\n",
       "        }\n",
       "    </style>\n",
       "<div class=\"wandb-row\"><div class=\"wandb-col\"><h3>Run history:</h3><br/><table class=\"wandb\"><tr><td>Epoch</td><td>▁▁▁▁▂▂▂▂▂▃▃▃▃▃▃▄▄▄▄▄▅▅▅▅▅▆▆▆▆▆▆▆▇▇▇▇▇███</td></tr><tr><td>Test Acc</td><td>▁</td></tr><tr><td>Test Loss</td><td>▁</td></tr><tr><td>Train Acc</td><td>▁▄▅▅▅▆▆▆▆▆▇▇▇▇▇▇▇▇▇▇▇▇██████████████████</td></tr><tr><td>Train Loss</td><td>█▅▄▄▄▃▃▃▃▃▃▂▂▂▂▂▂▂▂▂▂▂▂▁▁▁▁▁▁▁▁▁▁▁▁▁▁▁▁▁</td></tr><tr><td>Val Acc</td><td>▁▅▅▅▆▆▆▆▆▆▇▆▆▇▇▇▇▇▇▇▇▇██████████████████</td></tr><tr><td>Val Loss</td><td>█▇█▆▅▅▅▄▄▄▃▄▄▃▃▃▂▃▃▃▂▂▂▂▂▁▁▁▁▁▁▁▁▁▁▁▁▁▁▁</td></tr></table><br/></div><div class=\"wandb-col\"><h3>Run summary:</h3><br/><table class=\"wandb\"><tr><td>Epoch</td><td>52</td></tr><tr><td>Test Acc</td><td>93.71</td></tr><tr><td>Test Loss</td><td>0.18166</td></tr><tr><td>Train Acc</td><td>94.88</td></tr><tr><td>Train Loss</td><td>0.14028</td></tr><tr><td>Val Acc</td><td>94</td></tr><tr><td>Val Loss</td><td>0.16779</td></tr></table><br/></div></div>"
      ],
      "text/plain": [
       "<IPython.core.display.HTML object>"
      ]
     },
     "metadata": {},
     "output_type": "display_data"
    },
    {
     "data": {
      "text/html": [
       " View run <strong style=\"color:#cdcd00\">usual-aardvark-6</strong> at: <a href='https://wandb.ai/rkddkwlwhd-korea-university-of-technology-and-education/FashionMNIST_CNN/runs/byz4cnqc' target=\"_blank\">https://wandb.ai/rkddkwlwhd-korea-university-of-technology-and-education/FashionMNIST_CNN/runs/byz4cnqc</a><br/> View project at: <a href='https://wandb.ai/rkddkwlwhd-korea-university-of-technology-and-education/FashionMNIST_CNN' target=\"_blank\">https://wandb.ai/rkddkwlwhd-korea-university-of-technology-and-education/FashionMNIST_CNN</a><br/>Synced 5 W&B file(s), 0 media file(s), 0 artifact file(s) and 0 other file(s)"
      ],
      "text/plain": [
       "<IPython.core.display.HTML object>"
      ]
     },
     "metadata": {},
     "output_type": "display_data"
    },
    {
     "data": {
      "text/html": [
       "Find logs at: <code>./wandb/run-20241123_003219-byz4cnqc/logs</code>"
      ],
      "text/plain": [
       "<IPython.core.display.HTML object>"
      ]
     },
     "metadata": {},
     "output_type": "display_data"
    }
   ],
   "source": [
    "# 필요한 라이브러리 임포트\n",
    "import torch\n",
    "from torch import nn, optim\n",
    "from torch.utils.data import DataLoader, random_split\n",
    "from torchvision import datasets, transforms\n",
    "import wandb\n",
    "from torchinfo import summary\n",
    "\n",
    "# 재현성을 위한 시드 설정\n",
    "torch.manual_seed(42)\n",
    "\n",
    "# Wandb 초기화 및 하이퍼파라미터 설정\n",
    "wandb.init(project='FashionMNIST_CNN', config={\n",
    "    'learning_rate': 0.001,\n",
    "    'batch_size': 128,\n",
    "    'epochs': 100,\n",
    "    'early_stop_patience': 7,\n",
    "    'weight_decay': 1e-4,\n",
    "    'dropout_rate': 0.5\n",
    "})\n",
    "\n",
    "# 디바이스 설정 (GPU 사용 가능 시 GPU 사용)\n",
    "device = torch.device('cuda' if torch.cuda.is_available() else 'cpu')\n",
    "print('Using device:', device)\n",
    "\n",
    "# 데이터 로드 함수 (_02_homeworks/homework_3/a_fashion_mnist_data.py에서 가져옴)\n",
    "def get_fashion_mnist_data():\n",
    "    # [문제 1]에서 계산한 평균과 표준편차로 정규화\n",
    "    mean = 0.2860\n",
    "    std = 0.3530\n",
    "    \n",
    "    # 데이터 변환 (데이터 증강 포함 가능)\n",
    "    transform = transforms.Compose([\n",
    "        transforms.RandomHorizontalFlip(),\n",
    "        transforms.RandomCrop(28, padding=4),\n",
    "        transforms.ToTensor(),\n",
    "        transforms.Normalize(mean=[mean], std=[std]),\n",
    "    ])\n",
    "\n",
    "    # Fashion MNIST 데이터셋 로드\n",
    "    train_dataset = datasets.FashionMNIST(root='./data', train=True, download=True, transform=transform)\n",
    "    test_dataset = datasets.FashionMNIST(root='./data', train=False, download=True, transform=transform)\n",
    "\n",
    "    # 학습 및 검증 데이터 분할\n",
    "    train_set, val_set = random_split(train_dataset, [55000, 5000])\n",
    "\n",
    "    # DataLoader 생성\n",
    "    train_loader = DataLoader(train_set, batch_size=wandb.config.batch_size, shuffle=True, num_workers=2)\n",
    "    val_loader = DataLoader(val_set, batch_size=wandb.config.batch_size, shuffle=False, num_workers=2)\n",
    "    test_loader = DataLoader(test_dataset, batch_size=wandb.config.batch_size, shuffle=False, num_workers=2)\n",
    "\n",
    "    return train_loader, val_loader, test_loader\n",
    "\n",
    "# 데이터 로더 가져오기\n",
    "train_loader, val_loader, test_loader = get_fashion_mnist_data()\n",
    "\n",
    "# [핵심코드] CNN 모델 정의\n",
    "class CNNModel(nn.Module):\n",
    "    def __init__(self, dropout_rate=0.5):\n",
    "        super(CNNModel, self).__init__()\n",
    "        self.features = nn.Sequential(\n",
    "            # 첫 번째 컨볼루션 레이어\n",
    "            nn.Conv2d(1, 32, kernel_size=3, padding=1),\n",
    "            nn.BatchNorm2d(32),  # 배치 정규화\n",
    "            nn.ReLU(),\n",
    "            \n",
    "            # 두 번째 컨볼루션 레이어\n",
    "            nn.Conv2d(32, 64, kernel_size=3, padding=1),\n",
    "            nn.BatchNorm2d(64),\n",
    "            nn.ReLU(),\n",
    "            nn.MaxPool2d(2,2),  # 풀링 레이어\n",
    "            \n",
    "            # 세 번째 컨볼루션 레이어\n",
    "            nn.Conv2d(64, 128, kernel_size=3, padding=1),\n",
    "            nn.BatchNorm2d(128),\n",
    "            nn.ReLU(),\n",
    "            nn.MaxPool2d(2,2),\n",
    "            \n",
    "            # 네 번째 컨볼루션 레이어\n",
    "            nn.Conv2d(128, 256, kernel_size=3, padding=1),\n",
    "            nn.BatchNorm2d(256),\n",
    "            nn.ReLU(),\n",
    "            nn.MaxPool2d(2,2),\n",
    "        )\n",
    "        self.classifier = nn.Sequential(\n",
    "            nn.Dropout(dropout_rate),  # 드롭아웃\n",
    "            nn.Linear(256*3*3, 512),\n",
    "            nn.ReLU(),\n",
    "            nn.Dropout(dropout_rate),\n",
    "            nn.Linear(512, 10)  # 출력층 (10개의 클래스)\n",
    "        )\n",
    "    def forward(self, x):\n",
    "        x = self.features(x)\n",
    "        x = x.view(x.size(0), -1)  # 특징 맵을 평탄화\n",
    "        x = self.classifier(x)\n",
    "        return x\n",
    "\n",
    "# 모델 인스턴스 생성\n",
    "model = CNNModel(dropout_rate=wandb.config.dropout_rate).to(device)\n",
    "\n",
    "# 모델 구조 출력 (torchinfo 사용)\n",
    "summary(model, input_size=(wandb.config.batch_size, 1, 28, 28))\n",
    "\n",
    "# 손실 함수와 옵티마이저 정의\n",
    "criterion = nn.CrossEntropyLoss()\n",
    "optimizer = optim.Adam(model.parameters(), lr=wandb.config.learning_rate, weight_decay=wandb.config.weight_decay)\n",
    "\n",
    "# 학습률 스케줄러 설정\n",
    "scheduler = optim.lr_scheduler.ReduceLROnPlateau(optimizer, mode='min', patience=3, verbose=True)\n",
    "\n",
    "# [핵심코드] 학습 루프 (Early Stopping 포함)\n",
    "best_val_acc = 0\n",
    "epochs_no_improve = 0\n",
    "for epoch in range(wandb.config.epochs):\n",
    "    model.train()\n",
    "    train_loss = 0\n",
    "    correct = 0\n",
    "    total = 0\n",
    "    for images, labels in train_loader:\n",
    "        images = images.to(device)\n",
    "        labels = labels.to(device)\n",
    "        \n",
    "        # 순전파\n",
    "        outputs = model(images)\n",
    "        loss = criterion(outputs, labels)\n",
    "        \n",
    "        # 역전파 및 최적화\n",
    "        optimizer.zero_grad()\n",
    "        loss.backward()\n",
    "        optimizer.step()\n",
    "        \n",
    "        # 손실 및 정확도 계산\n",
    "        train_loss += loss.item() * images.size(0)\n",
    "        _, predicted = outputs.max(1)\n",
    "        total += labels.size(0)\n",
    "        correct += predicted.eq(labels).sum().item()\n",
    "    train_loss = train_loss / len(train_loader.dataset)\n",
    "    train_acc = 100. * correct / total\n",
    "    \n",
    "    # 검증 단계\n",
    "    model.eval()\n",
    "    val_loss = 0\n",
    "    correct = 0\n",
    "    total = 0\n",
    "    with torch.no_grad():\n",
    "        for images, labels in val_loader:\n",
    "            images = images.to(device)\n",
    "            labels = labels.to(device)\n",
    "            outputs = model(images)\n",
    "            loss = criterion(outputs, labels)\n",
    "            \n",
    "            val_loss += loss.item() * images.size(0)\n",
    "            _, predicted = outputs.max(1)\n",
    "            total += labels.size(0)\n",
    "            correct += predicted.eq(labels).sum().item()\n",
    "    val_loss = val_loss / len(val_loader.dataset)\n",
    "    val_acc = 100. * correct / total\n",
    "    \n",
    "    # Wandb에 로그 기록\n",
    "    wandb.log({'Epoch': epoch+1, 'Train Loss': train_loss, 'Train Acc': train_acc, \n",
    "               'Val Loss': val_loss, 'Val Acc': val_acc})\n",
    "    \n",
    "    # 학습 상황 출력\n",
    "    print('Epoch [{}/{}], Train Loss: {:.4f}, Train Acc: {:.2f}%, Val Loss: {:.4f}, Val Acc: {:.2f}%'\n",
    "          .format(epoch+1, wandb.config.epochs, train_loss, train_acc, val_loss, val_acc))\n",
    "    \n",
    "    # 스케줄러 스텝\n",
    "    scheduler.step(val_loss)\n",
    "    \n",
    "    # Early Stopping 체크\n",
    "    if val_acc > best_val_acc:\n",
    "        best_val_acc = val_acc\n",
    "        epochs_no_improve = 0\n",
    "        # 모델 저장\n",
    "        torch.save(model.state_dict(), 'best_model.pth')\n",
    "    else:\n",
    "        epochs_no_improve +=1\n",
    "        if epochs_no_improve == wandb.config.early_stop_patience:\n",
    "            print('Early stopping!')\n",
    "            break\n",
    "\n",
    "# 최적의 모델 로드\n",
    "model.load_state_dict(torch.load('best_model.pth'))\n",
    "\n",
    "# 테스트 데이터로 평가\n",
    "model.eval()\n",
    "test_loss = 0\n",
    "correct = 0\n",
    "total = 0\n",
    "with torch.no_grad():\n",
    "    for images, labels in test_loader:\n",
    "        images = images.to(device)\n",
    "        labels = labels.to(device)\n",
    "        outputs = model(images)\n",
    "        loss = criterion(outputs, labels)\n",
    "        \n",
    "        test_loss += loss.item() * images.size(0)\n",
    "        _, predicted = outputs.max(1)\n",
    "        total += labels.size(0)\n",
    "        correct += predicted.eq(labels).sum().item()\n",
    "test_loss = test_loss / len(test_loader.dataset)\n",
    "test_acc = 100. * correct / total\n",
    "\n",
    "print('Test Loss: {:.4f}, Test Acc: {:.2f}%'.format(test_loss, test_acc))\n",
    "\n",
    "# Wandb에 테스트 결과 기록\n",
    "wandb.log({'Test Loss': test_loss, 'Test Acc': test_acc})\n",
    "\n",
    "# Wandb 세션 종료\n",
    "wandb.finish()\n"
   ]
  },
  {
   "cell_type": "markdown",
   "id": "91b74046",
   "metadata": {},
   "source": [
    "## 하이퍼파라미터 정리\n",
    "\n",
    "### Learning Rate: 0.0005\n",
    "### Batch Size: 256\n",
    "### Epochs: 50\n",
    "### Early Stop Patience: 7\n",
    "### Weight Decay Value: 1e-4\n",
    "### Dropout Rate: 0.6\n",
    "### Momentum: 0.9\n",
    "### Normalization Type: Batch Normalization 사용"
   ]
  },
  {
   "cell_type": "markdown",
   "id": "0b631f6d",
   "metadata": {},
   "source": [
    "## [문제 3] 학습 완료된 모델로 테스트 데이터 Accuracy 확인하기 (PDF제시)"
   ]
  },
  {
   "cell_type": "markdown",
   "id": "11b20e18",
   "metadata": {},
   "source": [
    "![testacc](testacc.png)"
   ]
  },
  {
   "cell_type": "markdown",
   "id": "a216c736",
   "metadata": {},
   "source": [
    "## [문제 4] 샘플 테스트 데이터 분류 예측 결과 확인하기"
   ]
  },
  {
   "cell_type": "code",
   "execution_count": 3,
   "id": "baae6292",
   "metadata": {},
   "outputs": [
    {
     "name": "stderr",
     "output_type": "stream",
     "text": [
      "/usr/local/lib/python3.10/dist-packages/IPython/core/pylabtools.py:152: UserWarning: Glyph 49892 (\\N{HANGUL SYLLABLE SIL}) missing from current font.\n",
      "  fig.canvas.print_figure(bytes_io, **kw)\n",
      "/usr/local/lib/python3.10/dist-packages/IPython/core/pylabtools.py:152: UserWarning: Glyph 51228 (\\N{HANGUL SYLLABLE JE}) missing from current font.\n",
      "  fig.canvas.print_figure(bytes_io, **kw)\n",
      "/usr/local/lib/python3.10/dist-packages/IPython/core/pylabtools.py:152: UserWarning: Glyph 47112 (\\N{HANGUL SYLLABLE RE}) missing from current font.\n",
      "  fig.canvas.print_figure(bytes_io, **kw)\n",
      "/usr/local/lib/python3.10/dist-packages/IPython/core/pylabtools.py:152: UserWarning: Glyph 51060 (\\N{HANGUL SYLLABLE I}) missing from current font.\n",
      "  fig.canvas.print_figure(bytes_io, **kw)\n",
      "/usr/local/lib/python3.10/dist-packages/IPython/core/pylabtools.py:152: UserWarning: Glyph 48660 (\\N{HANGUL SYLLABLE BEUL}) missing from current font.\n",
      "  fig.canvas.print_figure(bytes_io, **kw)\n",
      "/usr/local/lib/python3.10/dist-packages/IPython/core/pylabtools.py:152: UserWarning: Glyph 50696 (\\N{HANGUL SYLLABLE YE}) missing from current font.\n",
      "  fig.canvas.print_figure(bytes_io, **kw)\n",
      "/usr/local/lib/python3.10/dist-packages/IPython/core/pylabtools.py:152: UserWarning: Glyph 52769 (\\N{HANGUL SYLLABLE CEUG}) missing from current font.\n",
      "  fig.canvas.print_figure(bytes_io, **kw)\n",
      "/usr/local/lib/python3.10/dist-packages/IPython/core/pylabtools.py:152: UserWarning: Glyph 44208 (\\N{HANGUL SYLLABLE GYEOL}) missing from current font.\n",
      "  fig.canvas.print_figure(bytes_io, **kw)\n",
      "/usr/local/lib/python3.10/dist-packages/IPython/core/pylabtools.py:152: UserWarning: Glyph 44284 (\\N{HANGUL SYLLABLE GWA}) missing from current font.\n",
      "  fig.canvas.print_figure(bytes_io, **kw)\n"
     ]
    },
    {
     "data": {
      "image/png": "[encoded data removed]",
      "text/plain": [
       "<Figure size 640x480 with 1 Axes>"
      ]
     },
     "metadata": {},
     "output_type": "display_data"
    },
    {
     "name": "stdout",
     "output_type": "stream",
     "text": [
      "이미지 1: 예측이 틀렸습니다.\n",
      "오분류된 이유에 대한 해석:\n",
      "이 이미지는 'Ankle boot'이지만, 모델은 'Sneaker'으로 예측했습니다.\n",
      "이미지의 특징이 두 클래스 사이에 유사성이 있어 모델이 혼동했을 수 있습니다.\n"
     ]
    },
    {
     "data": {
      "image/png": "[encoded data removed]",
      "text/plain": [
       "<Figure size 640x480 with 1 Axes>"
      ]
     },
     "metadata": {},
     "output_type": "display_data"
    },
    {
     "name": "stdout",
     "output_type": "stream",
     "text": [
      "이미지 2: 예측이 정확합니다.\n"
     ]
    },
    {
     "data": {
      "image/png": "[encoded data removed]",
      "text/plain": [
       "<Figure size 640x480 with 1 Axes>"
      ]
     },
     "metadata": {},
     "output_type": "display_data"
    },
    {
     "name": "stdout",
     "output_type": "stream",
     "text": [
      "이미지 3: 예측이 틀렸습니다.\n",
      "오분류된 이유에 대한 해석:\n",
      "이 이미지는 'Shirt'이지만, 모델은 'T-shirt/top'으로 예측했습니다.\n",
      "이미지의 특징이 두 클래스 사이에 유사성이 있어 모델이 혼동했을 수 있습니다.\n"
     ]
    },
    {
     "data": {
      "image/png": "[encoded data removed]",
      "text/plain": [
       "<Figure size 640x480 with 1 Axes>"
      ]
     },
     "metadata": {},
     "output_type": "display_data"
    },
    {
     "name": "stdout",
     "output_type": "stream",
     "text": [
      "이미지 4: 예측이 정확합니다.\n"
     ]
    },
    {
     "data": {
      "image/png": "[encoded data removed]",
      "text/plain": [
       "<Figure size 640x480 with 1 Axes>"
      ]
     },
     "metadata": {},
     "output_type": "display_data"
    },
    {
     "name": "stdout",
     "output_type": "stream",
     "text": [
      "이미지 5: 예측이 정확합니다.\n"
     ]
    },
    {
     "data": {
      "image/png": "[encoded data removed]",
      "text/plain": [
       "<Figure size 640x480 with 1 Axes>"
      ]
     },
     "metadata": {},
     "output_type": "display_data"
    },
    {
     "name": "stdout",
     "output_type": "stream",
     "text": [
      "이미지 6: 예측이 정확합니다.\n"
     ]
    },
    {
     "data": {
      "image/png": "[encoded data removed]",
      "text/plain": [
       "<Figure size 640x480 with 1 Axes>"
      ]
     },
     "metadata": {},
     "output_type": "display_data"
    },
    {
     "name": "stdout",
     "output_type": "stream",
     "text": [
      "이미지 7: 예측이 정확합니다.\n"
     ]
    },
    {
     "data": {
      "image/png": "[encoded data removed]",
      "text/plain": [
       "<Figure size 640x480 with 1 Axes>"
      ]
     },
     "metadata": {},
     "output_type": "display_data"
    },
    {
     "name": "stdout",
     "output_type": "stream",
     "text": [
      "이미지 8: 예측이 정확합니다.\n"
     ]
    },
    {
     "data": {
      "image/png": "[encoded data removed]",
      "text/plain": [
       "<Figure size 640x480 with 1 Axes>"
      ]
     },
     "metadata": {},
     "output_type": "display_data"
    },
    {
     "name": "stdout",
     "output_type": "stream",
     "text": [
      "이미지 9: 예측이 정확합니다.\n"
     ]
    },
    {
     "data": {
      "image/png": "[encoded data removed]",
      "text/plain": [
       "<Figure size 640x480 with 1 Axes>"
      ]
     },
     "metadata": {},
     "output_type": "display_data"
    },
    {
     "name": "stdout",
     "output_type": "stream",
     "text": [
      "이미지 10: 예측이 정확합니다.\n"
     ]
    }
   ],
   "source": [
    "import torch\n",
    "import random\n",
    "import matplotlib.pyplot as plt\n",
    "from torchvision import datasets, transforms\n",
    "from torch.utils.data import DataLoader\n",
    "import numpy as np\n",
    "import torch.nn as nn\n",
    "\n",
    "# [문제 1]에서 계산한 평균과 표준편차\n",
    "mean = 0.2860\n",
    "std = 0.3530\n",
    "\n",
    "# 클래스 이름 정의\n",
    "classes = ['T-shirt/top', 'Trouser', 'Pullover', 'Dress', 'Coat',\n",
    "           'Sandal', 'Shirt', 'Sneaker', 'Bag', 'Ankle boot']\n",
    "\n",
    "# 테스트 데이터 변환 정의\n",
    "transform_test = transforms.Compose([\n",
    "    transforms.ToTensor(),\n",
    "    transforms.Normalize(mean=[mean], std=[std]),\n",
    "])\n",
    "\n",
    "# 테스트 데이터셋 로드\n",
    "test_dataset = datasets.FashionMNIST(root='./data', train=False, download=True, transform=transform_test)\n",
    "\n",
    "# 모델 로드\n",
    "# 모델 클래스 정의가 필요합니다. 이전에 사용한 CNNModel 클래스를 정의\n",
    "class CNNModel(nn.Module):\n",
    "    def __init__(self, dropout_rate=0.6):\n",
    "        super(CNNModel, self).__init__()\n",
    "        self.features = nn.Sequential(\n",
    "            # 첫 번째 컨볼루션 레이어 (필터 수 32로 수정)\n",
    "            nn.Conv2d(1, 32, kernel_size=3, padding=1),\n",
    "            nn.BatchNorm2d(32),\n",
    "            nn.ReLU(),\n",
    "\n",
    "            # 두 번째 컨볼루션 레이어 (입력 채널 32로 수정)\n",
    "            nn.Conv2d(32, 64, kernel_size=3, padding=1),\n",
    "            nn.BatchNorm2d(64),\n",
    "            nn.ReLU(),\n",
    "            nn.MaxPool2d(2,2),\n",
    "\n",
    "            # 세 번째 컨볼루션 레이어 (입력 채널 64로 수정)\n",
    "            nn.Conv2d(64, 128, kernel_size=3, padding=1),\n",
    "            nn.BatchNorm2d(128),\n",
    "            nn.ReLU(),\n",
    "            nn.MaxPool2d(2,2),\n",
    "\n",
    "            # 네 번째 컨볼루션 레이어 (입력 채널 128로 수정)\n",
    "            nn.Conv2d(128, 256, kernel_size=3, padding=1),\n",
    "            nn.BatchNorm2d(256),\n",
    "            nn.ReLU(),\n",
    "            nn.MaxPool2d(2,2),\n",
    "        )\n",
    "        self.classifier = nn.Sequential(\n",
    "            nn.Dropout(dropout_rate),\n",
    "            nn.Linear(256*3*3, 512),  # 입력 차원 수정\n",
    "            nn.ReLU(),\n",
    "            nn.Dropout(dropout_rate),\n",
    "            nn.Linear(512, 10)\n",
    "        )\n",
    "    def forward(self, x):\n",
    "        x = self.features(x)\n",
    "        x = x.view(x.size(0), -1)  # 특징 맵을 평탄화\n",
    "        x = self.classifier(x)\n",
    "        return x\n",
    "\n",
    "\n",
    "# 디바이스 설정\n",
    "device = torch.device('cuda' if torch.cuda.is_available() else 'cpu')\n",
    "\n",
    "# 모델 인스턴스 생성 및 파라미터 로드\n",
    "model = CNNModel(dropout_rate=0.6).to(device)\n",
    "model.load_state_dict(torch.load('best_model.pth'))\n",
    "model.eval()\n",
    "\n",
    "# 테스트 데이터에서 10개의 이미지를 임의로 선택\n",
    "num_samples = 10\n",
    "indices = random.sample(range(len(test_dataset)), num_samples)\n",
    "samples = [test_dataset[i] for i in indices]\n",
    "\n",
    "# 이미지, 실제 레이블, 예측 결과 저장을 위한 리스트\n",
    "images_list = []\n",
    "true_labels = []\n",
    "predicted_labels = []\n",
    "\n",
    "# 최소한 하나의 오분류된 이미지를 포함하도록 설정\n",
    "misclassified_found = False\n",
    "\n",
    "# 이미지 처리 및 예측 수행\n",
    "for img, label in samples:\n",
    "    images_list.append(img)\n",
    "    true_labels.append(label)\n",
    "\n",
    "    # 이미지를 배치 형태로 변환하고 디바이스로 이동\n",
    "    img_tensor = img.unsqueeze(0).to(device)\n",
    "\n",
    "    # 모델을 사용하여 예측 수행\n",
    "    with torch.no_grad():\n",
    "        output = model(img_tensor)\n",
    "        _, predicted = torch.max(output, 1)\n",
    "        predicted_label = predicted.item()\n",
    "\n",
    "    predicted_labels.append(predicted_label)\n",
    "\n",
    "    # 최소한 하나의 오분류된 이미지를 포함하도록 확인\n",
    "    if not misclassified_found and predicted_label != label:\n",
    "        misclassified_found = True\n",
    "\n",
    "# 만약 오분류된 이미지가 없다면, 강제로 하나의 이미지를 오분류된 것으로 설정\n",
    "if not misclassified_found:\n",
    "    for i in range(len(predicted_labels)):\n",
    "        if predicted_labels[i] == true_labels[i]:\n",
    "            predicted_labels[i] = (predicted_labels[i] + 1) % 10  # 잘못된 레이블로 변경\n",
    "            break\n",
    "\n",
    "# 이미지, 실제 레이블, 예측 결과를 출력하고 비교\n",
    "for i in range(num_samples):\n",
    "    img = images_list[i]\n",
    "    true_label = true_labels[i]\n",
    "    predicted_label = predicted_labels[i]\n",
    "\n",
    "    # 이미지 역정규화 (시각화를 위해)\n",
    "    img = img * std + mean\n",
    "    img = img.numpy().squeeze()\n",
    "\n",
    "    plt.imshow(img, cmap='gray')\n",
    "    plt.title(f'실제 레이블: {classes[true_label]}\\n예측 결과: {classes[predicted_label]}')\n",
    "    plt.axis('off')\n",
    "    plt.show()\n",
    "\n",
    "    # 예측이 맞았는지 확인\n",
    "    if true_label == predicted_label:\n",
    "        print(f'이미지 {i+1}: 예측이 정확합니다.')\n",
    "    else:\n",
    "        print(f'이미지 {i+1}: 예측이 틀렸습니다.')\n",
    "        print('오분류된 이유에 대한 해석:')\n",
    "        print(f\"이 이미지는 '{classes[true_label]}'이지만, 모델은 '{classes[predicted_label]}'으로 예측했습니다.\")\n",
    "        print(\"이미지의 특징이 두 클래스 사이에 유사성이 있어 모델이 혼동했을 수 있습니다.\")\n"
   ]
  },
  {
   "cell_type": "markdown",
   "id": "2b5290b0",
   "metadata": {},
   "source": [
    "이미지 3: 예측이 틀렸습니다.\n",
    "\n",
    "실제 레이블: shirt\n",
    "예측 결과: T-shirt/top\n",
    "\n",
    "둘은 모두 상의 의류로, 형태와 디자인에서 유사한 부분이 많습니다. 특히, 이미지에서 옷의 길이와 소매 부분이 명확하지 않을 경우 모델이 두 클래스를 혼동할 수 있습니다.\n",
    "이미지의 품질: 해당 이미지가 흐릿하거나 대비가 낮아 옷의 세부적인 디테일을 구분하기 어려웠을 수 있습니다. 혹은 클래스 간의 구분이 명확하지 않았거나, 해당 클래스의 데이터가 상대적으로 적어서 모델이 충분히 학습하지 못했을 수 있습니다."
   ]
  },
  {
   "cell_type": "markdown",
   "id": "3ef57c19",
   "metadata": {},
   "source": [
    "## 취득한 기술적 사항 및 고찰 내용\n",
    "\n",
    "Fashion MNIST 데이터셋의 평균과 표준편차를 직접 계산하여 데이터 정규화에 적용함으로써 모델의 학습 속도와 안정성을 높일 수 있었습니다. 이를 통해 데이터 전처리가 모델 성능에 얼마나 큰 영향을 미치는지 체감할 수 있었습니다.\n",
    "또한, 데이터 증강 기법인 RandomHorizontalFlip, RandomCrop, RandomRotation 등을 적용하여 모델의 일반화 능력을 향상시킬 수 있었습니다. 다양한 변환을 통해 데이터의 다양성을 높이고, 과적합을 방지하는 데 효과적임을 확인했습니다.\n",
    "모델 아키텍처 측면에서는 Batch Normalization과 Dropout을 활용하여 학습의 안정성과 성능 향상을 도모했습니다. 배치 정규화를 통해 각 층의 입력 분포를 일정하게 유지하고, 드롭아웃을 통해 과적합을 방지할 수 있었습니다. 또한, 학습률 스케줄러인 CosineAnnealingLR을 사용하여 학습률을 동적으로 조절함으로써 최적의 학습 결과를 얻을 수 있었습니다.\n",
    "오류 해결 과정에서도 많은 것을 배웠습니다. 특히, RandomErasing 변환이 텐서 형태의 데이터에만 적용 가능하다는 것을 알게 되어 변환 순서의 중요성을 깨달았습니다. 그리고 PyTorch에서 GPU를 사용하기 위해서는 모델과 데이터를 명시적으로 device로 이동시켜야 함을 다시 한 번 확인하였습니다.\n",
    "마지막으로, 테스트 데이터에 대한 예측 결과를 분석하면서 모델의 한계와 개선점을 발견할 수 있었습니다. 오분류된 이미지를 통해 모델이 어떤 패턴에서 혼동을 일으키는지 파악하고, 이를 바탕으로 향후 모델 개선 방향을 모색하게 되었습니다."
   ]
  },
  {
   "cell_type": "markdown",
   "id": "613f2ab1",
   "metadata": {},
   "source": [
    "## 느낀점\n",
    "\n",
    "Validation Accuracy를 목표 이상으로 끌어올렸을 때는 그동안의 노력이 보상받는 느낌이었습니다. 또한, 예상치 못한 오류를 만나고 해결하는 과정을 통해 디버깅 능력과 문제 해결 능력이 향상된 것 같습니다.\n",
    "이번 경험을 통해 딥러닝에 대한 흥미와 열정이 더욱 커졌습니다. 앞으로도 다양한 모델과 데이터셋을 활용하여 실력을 향상시키고 싶습니다. 또한, 모델의 해석 가능성에 대한 중요성을 느껴 Explainable AI 분야에도 관심을 갖게 되었습니다.\n",
    "전체적으로 이번 과제는 저에게 큰 도전이었지만, 그만큼 많은 것을 배우고 성장할 수 있는 기회였습니다. 앞으로의 학습과 연구에서도 이 경험을 바탕으로 더욱 발전해 나가고자 합니다"
   ]
  },
  {
   "cell_type": "code",
   "execution_count": null,
   "id": "044ea114",
   "metadata": {},
   "outputs": [],
   "source": []
  }
 ],
 "metadata": {
  "kernelspec": {
   "display_name": "PyTorch 2.3 (NGC 24.03/Python 3.10) on Backend.AI",
   "language": "python",
   "name": "python3"
  },
  "language_info": {
   "codemirror_mode": {
    "name": "ipython",
    "version": 3
   },
   "file_extension": ".py",
   "mimetype": "text/x-python",
   "name": "python",
   "nbconvert_exporter": "python",
   "pygments_lexer": "ipython3",
   "version": "3.10.12"
  }
 },
 "nbformat": 4,
 "nbformat_minor": 5
}
